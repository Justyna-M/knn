{
 "cells": [
  {
   "cell_type": "code",
   "execution_count": 150,
   "metadata": {},
   "outputs": [],
   "source": [
    "import numpy as np\n",
    "import pandas as pd\n",
    "import math"
   ]
  },
  {
   "cell_type": "code",
   "execution_count": 153,
   "metadata": {},
   "outputs": [],
   "source": [
    "#METRICS\n",
    "def distance_euclidean(vector1, vector2):\n",
    "    distance=np.sum(np.square(vector1 - vector2))\n",
    "    return np.sqrt(distance)\n",
    "\n",
    "def distance_manhattan(vector1, vector2):\n",
    "    distance=np.sum(abs(vector1 - vector2))\n",
    "    return distance\n",
    "\n",
    "def distance_max(vector1, vector2):\n",
    "    distance=max(abs(vector1 - vector2))\n",
    "    return distance\n",
    "\n",
    "def distance_cos(vector1, vector2):\n",
    "    similarity=(np.sum(vector1*vector2))/(np.sqrt(np.sum(vector1*vector1))*np.sqrt(np.sum(vector2*vector2)))\n",
    "    return 1-similarity"
   ]
  },
  {
   "cell_type": "code",
   "execution_count": 154,
   "metadata": {},
   "outputs": [],
   "source": [
    "#KNN\n",
    "class KNN:\n",
    "\n",
    "    def __init__(self, k, metrics):\n",
    "        self.k=k\n",
    "        self.metrics=metrics\n",
    "        self.x_train=None\n",
    "        self.y_train=None\n",
    "\n",
    "    def train(self, x_train, y_train):\n",
    "        if self.x_train is not None and self.y_train is not None:\n",
    "            self.x_train = np.concatenate((self.x_train, x_train), axis=0)\n",
    "            self.y_train = np.concatenate((self.y_train, y_train), axis=0)\n",
    "        else:\n",
    "            self.x_train = x_train\n",
    "            self.y_train = y_train\n",
    "\n",
    "    def predict(self, x_test):\n",
    "        y_test=np.empty(len(x_test))\n",
    "        for counter in range(len(x_test)):\n",
    "            neighbours=np.empty((len(self.x_train), 2))\n",
    "            for i in range(len(self.x_train)):\n",
    "                distance=self.metrics(x_test[counter], self.x_train[i,])\n",
    "                neighbours[i]=[distance, self.y_train[i]]\n",
    "            neighbours_sorted= neighbours[neighbours[:, 0].argsort()]\n",
    "            if np.count_nonzero(neighbours_sorted[:self.k, 1] == 0) > self.k/2:\n",
    "                label=0\n",
    "            else:\n",
    "                label=1\n",
    "            y_test[counter]=label\n",
    "        return y_test"
   ]
  },
  {
   "cell_type": "code",
   "execution_count": 155,
   "metadata": {},
   "outputs": [
    {
     "name": "stdout",
     "output_type": "stream",
     "text": [
      "<class 'pandas.core.frame.DataFrame'>\n",
      "RangeIndex: 1000 entries, 0 to 999\n",
      "Data columns (total 5 columns):\n",
      " #   Column        Non-Null Count  Dtype \n",
      "---  ------        --------------  ----- \n",
      " 0   User ID       1000 non-null   int64 \n",
      " 1   Gender        1000 non-null   object\n",
      " 2   Age           1000 non-null   int64 \n",
      " 3   AnnualSalary  1000 non-null   int64 \n",
      " 4   Purchased     1000 non-null   int64 \n",
      "dtypes: int64(4), object(1)\n",
      "memory usage: 39.2+ KB\n",
      "None\n",
      "<class 'pandas.core.frame.DataFrame'>\n",
      "RangeIndex: 1000 entries, 0 to 999\n",
      "Data columns (total 5 columns):\n",
      " #   Column        Non-Null Count  Dtype\n",
      "---  ------        --------------  -----\n",
      " 0   User ID       1000 non-null   int64\n",
      " 1   Gender        1000 non-null   int64\n",
      " 2   Age           1000 non-null   int64\n",
      " 3   AnnualSalary  1000 non-null   int64\n",
      " 4   Purchased     1000 non-null   int64\n",
      "dtypes: int64(5)\n",
      "memory usage: 39.2 KB\n",
      "None\n"
     ]
    }
   ],
   "source": [
    "#DATA\n",
    "df = pd.read_csv('car_data.csv')\n",
    "print(df.info())\n",
    "df['Gender']=df['Gender'].replace(['Female','Male'], [1,0])\n",
    "print(df.info())"
   ]
  },
  {
   "cell_type": "code",
   "execution_count": 156,
   "metadata": {},
   "outputs": [
    {
     "name": "stdout",
     "output_type": "stream",
     "text": [
      "   User ID  Gender  Age  AnnualSalary  Purchased\n",
      "0      385       0   35         20000          0\n",
      "1      681       0   40         43500          0\n",
      "2      353       0   49         74000          0\n",
      "3      895       0   40        107500          1\n",
      "4      661       0   25         79000          0\n"
     ]
    }
   ],
   "source": [
    "print(df.head())"
   ]
  },
  {
   "cell_type": "code",
   "execution_count": 157,
   "metadata": {},
   "outputs": [],
   "source": [
    "data=df.drop(\"Purchased\", axis=1).to_numpy()\n",
    "result=df[\"Purchased\"].to_numpy()"
   ]
  },
  {
   "cell_type": "code",
   "execution_count": 158,
   "metadata": {},
   "outputs": [],
   "source": [
    "#DATA SPLIT INTO TRAIN AND TEST DATASETS\n",
    "division=round(2/3*len(df))\n",
    "train_x=data[:division]\n",
    "train_y=result[:division]\n",
    "test_x=data[division:]\n",
    "test_y=result[division:]"
   ]
  },
  {
   "cell_type": "code",
   "execution_count": 161,
   "metadata": {},
   "outputs": [],
   "source": [
    "# QUALITY OF PREDICTION\n",
    "def labels(true,predicted):\n",
    "    tp=(true*predicted).sum()\n",
    "    tn=sum((true+predicted)==0)\n",
    "    fp=sum((predicted-true)==1)\n",
    "    fn = sum((predicted - true) == -1)\n",
    "    return tp, tn, fp, fn\n",
    "\n",
    "def accuracy(true,predicted):\n",
    "    tp, tn, fp, fn=labels(true, predicted)\n",
    "    return (tp+tn)/(tp+tn+fp+fn)\n",
    "\n",
    "def precision(true,predicted):\n",
    "    tp, tn, fp, fn = labels(true, predicted)\n",
    "    return tp / (tp + fp)\n",
    "\n",
    "def recall(true, predicted):\n",
    "    tp, tn, fp, fn = labels(true, predicted)\n",
    "    return tp / (tp + fn)\n",
    "\n",
    "def f1(true, predicted):\n",
    "    return (2*precision(true, predicted)*recall(true, predicted))/(precision(true, predicted)+recall(true, predicted))\n",
    "\n",
    "def prediction_quality(true, predicted):\n",
    "    acc=accuracy(true, predicted)\n",
    "    prec=precision(true, predicted)\n",
    "    rec=recall(true, predicted)\n",
    "    f=f1(true, predicted)\n",
    "    return acc, prec, rec, f"
   ]
  },
  {
   "cell_type": "code",
   "execution_count": 164,
   "metadata": {},
   "outputs": [
    {
     "name": "stdout",
     "output_type": "stream",
     "text": [
      "Accuracy, Precision, Recall, F1\n",
      "distance_euclidean\n",
      "(0.7897897897897898, 0.7699115044247787, 0.6641221374045801, 0.7131147540983606)\n",
      "distance_manhattan\n",
      "(0.7957957957957958, 0.7692307692307693, 0.6870229007633588, 0.7258064516129032)\n",
      "distance_max\n",
      "(0.7747747747747747, 0.7545454545454545, 0.6335877862595419, 0.6887966804979253)\n",
      "distance_cos\n",
      "(0.6516516516516516, 0.5773195876288659, 0.42748091603053434, 0.49122807017543857)\n"
     ]
    }
   ],
   "source": [
    "#MAIN\n",
    "k=round(math.sqrt(len(train_y))/2)\n",
    "print(\"Accuracy, Precision, Recall, F1\")\n",
    "for m in [distance_euclidean, distance_manhattan, distance_max, distance_cos]:\n",
    "    print(m.__name__)\n",
    "    knn=KNN(k, m)\n",
    "    knn.train(train_x, train_y)\n",
    "    prediction=knn.predict(test_x)\n",
    "    print(prediction_quality(test_y, prediction))"
   ]
  }
 ],
 "metadata": {
  "kernelspec": {
   "display_name": ".env",
   "language": "python",
   "name": "python3"
  },
  "language_info": {
   "codemirror_mode": {
    "name": "ipython",
    "version": 3
   },
   "file_extension": ".py",
   "mimetype": "text/x-python",
   "name": "python",
   "nbconvert_exporter": "python",
   "pygments_lexer": "ipython3",
   "version": "3.10.1"
  },
  "orig_nbformat": 4,
  "vscode": {
   "interpreter": {
    "hash": "d468ccf97d7179dc08d1199051df7a690cbad0367ea9ee3aba78e0e625efdf9c"
   }
  }
 },
 "nbformat": 4,
 "nbformat_minor": 2
}
